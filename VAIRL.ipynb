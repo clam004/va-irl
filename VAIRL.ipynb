{
 "cells": [
  {
   "cell_type": "code",
   "execution_count": 6,
   "metadata": {},
   "outputs": [
    {
     "name": "stdout",
     "output_type": "stream",
     "text": [
      "you are using PyTorch version  1.4.0\n",
      "you have 2 GPUs\n",
      "cuda:0\n",
      "The autoreload extension is already loaded. To reload it, use:\n",
      "  %reload_ext autoreload\n"
     ]
    }
   ],
   "source": [
    "import os\n",
    "import gym\n",
    "import pickle\n",
    "import argparse\n",
    "import numpy as np\n",
    "from collections import deque\n",
    "\n",
    "import torch\n",
    "import torch.nn as nn\n",
    "import torch.optim as optim\n",
    "from torch.distributions import Categorical\n",
    "from tensorboardX import SummaryWriter \n",
    "\n",
    "from utils.utils import *\n",
    "\n",
    "import matplotlib.pyplot as plt\n",
    "\n",
    "print('you are using PyTorch version ',torch.__version__)\n",
    "\n",
    "if torch.cuda.is_available():\n",
    "    use_cuda = True\n",
    "    print(\"you have\", torch.cuda.device_count(), \"GPUs\")\n",
    "    device = torch.device(\"cuda:0\")\n",
    "    print(device)\n",
    "else:\n",
    "    use_cuda = False\n",
    "    print('no GPUs detected')\n",
    "    device = torch.device(\"cpu\")\n",
    "\n",
    "%load_ext autoreload\n",
    "%autoreload 2\n",
    "%matplotlib inline"
   ]
  },
  {
   "cell_type": "markdown",
   "metadata": {},
   "source": [
    "# Variational Adversarial Inverse Reinforcement Learning\n",
    "\n",
    "## Environment\n",
    "\n",
    "`env` is the environment and will take our actions and return the next state\n",
    "\n",
    "## Running mean and variance\n",
    "\n",
    "`ZFilter`  incorporates the input into a running estimate of mean and variance, then \n",
    "returns the z-score of the input \n",
    "\n",
    "When you get a large number of inputs x in sequence, but cannot store every x, yet would like to update M and V which are the running mean and variance.\n",
    "\n",
    "initialize\n",
    "$M_1 = x_i$\n",
    "\n",
    "$V_1 = 0$\n",
    "\n",
    "$M_t = M_{t-1} + \\frac{(x_t + M_{t-1})}{t}$\n",
    "\n",
    "$S_t = S_{t-1} + \\frac{(x_t – M_{t-1})(x_t – M_t)}{t}$\n"
   ]
  },
  {
   "cell_type": "code",
   "execution_count": 7,
   "metadata": {},
   "outputs": [
    {
     "name": "stdout",
     "output_type": "stream",
     "text": [
      "state space Box(24,) action space Box(4,)\n"
     ]
    }
   ],
   "source": [
    "env = gym.make('BipedalWalker-v3')\n",
    "#env = gym.make('Hopper-v2')\n",
    "env.seed(0)\n",
    "torch.manual_seed(0)\n",
    "print(\"state space\", env.observation_space, \"action space\", env.action_space)\n",
    "num_inputs = env.observation_space.shape[0]\n",
    "num_actions = env.action_space.shape[0]\n",
    "running_state = ZFilter((num_inputs,), clip=5)"
   ]
  },
  {
   "cell_type": "code",
   "execution_count": 8,
   "metadata": {},
   "outputs": [],
   "source": [
    "class Actor(nn.Module):\n",
    "    def __init__(self, num_inputs, num_outputs, hidden_size):\n",
    "        super(Actor, self).__init__()\n",
    "        self.fc1 = nn.Linear(num_inputs, hidden_size)\n",
    "        self.fc2 = nn.Linear(hidden_size, hidden_size)\n",
    "        self.fc3 = nn.Linear(hidden_size, num_outputs)\n",
    "        \n",
    "        self.fc3.weight.data.mul_(0.1)\n",
    "        self.fc3.bias.data.mul_(0.0)\n",
    "\n",
    "    def forward(self, x):\n",
    "        x = torch.tanh(self.fc1(x))\n",
    "        x = torch.tanh(self.fc2(x))\n",
    "        mu = self.fc3(x)\n",
    "        logstd = torch.zeros_like(mu)\n",
    "        std = torch.exp(logstd)\n",
    "        return mu, std\n",
    "\n",
    "\n",
    "class Critic(nn.Module):\n",
    "    def __init__(self, num_inputs, hidden_size):\n",
    "        super(Critic, self).__init__()\n",
    "        self.fc1 = nn.Linear(num_inputs, hidden_size)\n",
    "        self.fc2 = nn.Linear(hidden_size, hidden_size)\n",
    "        self.fc3 = nn.Linear(hidden_size, 1)\n",
    "        \n",
    "        self.fc3.weight.data.mul_(0.1)\n",
    "        self.fc3.bias.data.mul_(0.0)\n",
    "\n",
    "    def forward(self, x):\n",
    "        x = torch.tanh(self.fc1(x))\n",
    "        x = torch.tanh(self.fc2(x))\n",
    "        v = self.fc3(x)\n",
    "        return v\n",
    "\n",
    "\n",
    "class VDB(nn.Module):\n",
    "    def __init__(self, num_inputs, hidden_size, z_size):\n",
    "        super(VDB, self).__init__()\n",
    "        self.fc1 = nn.Linear(num_inputs, hidden_size)\n",
    "        self.fc2 = nn.Linear(hidden_size, z_size)\n",
    "        self.fc3 = nn.Linear(hidden_size, z_size)\n",
    "        self.fc4 = nn.Linear(z_size, hidden_size)\n",
    "        self.fc5 = nn.Linear(hidden_size, 1)\n",
    "        \n",
    "        self.fc5.weight.data.mul_(0.1)\n",
    "        self.fc5.bias.data.mul_(0.0)\n",
    "\n",
    "    def encoder(self, x):\n",
    "        h = torch.tanh(self.fc1(x))\n",
    "        return self.fc2(h), self.fc3(h)\n",
    "    \n",
    "    def reparameterize(self, mu, logvar):\n",
    "        std = torch.exp(logvar/2)\n",
    "        eps = torch.randn_like(std)\n",
    "        return mu + std * eps\n",
    "\n",
    "    def discriminator(self, z):\n",
    "        h = torch.tanh(self.fc4(z))\n",
    "        return torch.sigmoid(self.fc5(h))\n",
    "    \n",
    "    def forward(self, x):\n",
    "        mu, logvar = self.encoder(x)\n",
    "        z = self.reparameterize(mu, logvar)\n",
    "        prob = self.discriminator(z)\n",
    "        return prob, mu, logvar"
   ]
  },
  {
   "cell_type": "code",
   "execution_count": 9,
   "metadata": {},
   "outputs": [],
   "source": [
    "actor = Actor(num_inputs, num_actions, hidden_size=128)\n",
    "critic = Critic(num_inputs, hidden_size=128)\n",
    "vdb = VDB(num_inputs + num_actions, hidden_size=128, z_size=4)\n",
    "\n",
    "learning_rate = 3e-4\n",
    "l2_rate = 1e-3\n",
    "\n",
    "actor_optim = optim.Adam(actor.parameters(), lr=learning_rate)\n",
    "critic_optim = optim.Adam(critic.parameters(), lr=learning_rate, weight_decay=l2_rate) \n",
    "vdb_optim = optim.Adam(vdb.parameters(), lr=learning_rate)"
   ]
  },
  {
   "cell_type": "code",
   "execution_count": 10,
   "metadata": {},
   "outputs": [
    {
     "name": "stdout",
     "output_type": "stream",
     "text": [
      "demonstrations.shape (50000, 14) [[-0.48224705 -1.18786003  1.84605944  0.62223241 -0.39152268 -3.21709328\n",
      "   0.05523458 -0.0175782   0.14056332  0.08432692  0.01398241  2.57012254\n",
      "   2.16022653  1.25368368]\n",
      " [-0.48457226 -1.11279922  1.86942212  0.62266743 -0.38204572 -3.11900995\n",
      "  -0.0192135   0.62860545  0.72578217  0.08719617  0.25489085  2.5566931\n",
      "   2.40988924  1.14469644]]\n"
     ]
    }
   ],
   "source": [
    "# load demonstrations\n",
    "expert_demo, _ = pickle.load(open('expert_demo.p', \"rb\"))\n",
    "demonstrations = np.array(expert_demo)\n",
    "print(\"demonstrations.shape\", demonstrations.shape, demonstrations[:2])"
   ]
  },
  {
   "cell_type": "code",
   "execution_count": 12,
   "metadata": {},
   "outputs": [
    {
     "name": "stdout",
     "output_type": "stream",
     "text": [
      "[-0.69259548  0.70470214 -0.70708828 -0.45938691  0.70703177  0.70709881\n",
      " -0.70703864 -0.70709676  0.          0.70700392  0.70709881 -0.70695971\n",
      " -0.70709507  0.         -0.65528151 -0.65528151 -0.66221509 -0.66221509\n",
      " -0.66751234 -0.66751234 -0.67507248 -0.68020843  0.          0.        ]\n"
     ]
    }
   ],
   "source": [
    "episodes = 0\n",
    "train_discrim_flag = True\n",
    "max_iter_num = 4\n",
    "total_sample_size = 512\n",
    "\n",
    "for iter in range(max_iter_num):\n",
    "    actor.eval(), critic.eval()\n",
    "    memory = deque()\n",
    "    steps = 0\n",
    "    scores = []\n",
    "    \n",
    "    while steps < total_sample_size: \n",
    "        \n",
    "        state = env.reset()\n",
    "        score = 0\n",
    "\n",
    "        state = running_state(state)\n",
    "        print(state)\n",
    "        break\n",
    "    break"
   ]
  },
  {
   "cell_type": "code",
   "execution_count": null,
   "metadata": {},
   "outputs": [],
   "source": []
  }
 ],
 "metadata": {
  "kernelspec": {
   "display_name": "Python 3",
   "language": "python",
   "name": "python3"
  },
  "language_info": {
   "codemirror_mode": {
    "name": "ipython",
    "version": 3
   },
   "file_extension": ".py",
   "mimetype": "text/x-python",
   "name": "python",
   "nbconvert_exporter": "python",
   "pygments_lexer": "ipython3",
   "version": "3.6.9"
  }
 },
 "nbformat": 4,
 "nbformat_minor": 4
}
