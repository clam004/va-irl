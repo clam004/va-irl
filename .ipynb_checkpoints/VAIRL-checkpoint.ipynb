{
 "cells": [
  {
   "cell_type": "code",
   "execution_count": 7,
   "metadata": {},
   "outputs": [],
   "source": [
    "import os\n",
    "import gym\n",
    "import pickle\n",
    "import argparse\n",
    "import numpy as np\n",
    "from collections import deque\n",
    "\n",
    "import torch\n",
    "import torch.nn as nn\n",
    "import torch.optim as optim\n",
    "from tensorboardX import SummaryWriter \n",
    "\n",
    "from utils.utils import *"
   ]
  },
  {
   "cell_type": "markdown",
   "metadata": {},
   "source": [
    "# Variational Adversarial Inverse Reinforcement Learning\n",
    "\n",
    "## Environment\n",
    "\n",
    "`env` is the environment and will take our actions and return the next state\n",
    "\n",
    "## Running mean and variance\n",
    "\n",
    "`ZFilter`  incorporates the input into a running estimate of mean and variance, then \n",
    "returns the z-score of the input \n",
    "\n",
    "When you get a large number of inputs x in sequence, but cannot store every x, yet would like to update M and V which are the running mean and variance.\n",
    "\n",
    "initialize\n",
    "$M_1 = x_i$\n",
    "\n",
    "$V_1 = 0$\n",
    "\n",
    "$M_t = M_{t-1} + \\frac{(x_t + M_{t-1})}{t}$\n",
    "\n",
    "$S_t = S_{t-1} + \\frac{(x_t – M_{t-1})(x_t – M_t)}{t}$\n"
   ]
  },
  {
   "cell_type": "code",
   "execution_count": 6,
   "metadata": {},
   "outputs": [
    {
     "name": "stdout",
     "output_type": "stream",
     "text": [
      "state space Box(24,) action space Box(4,)\n"
     ]
    }
   ],
   "source": [
    "env = gym.make('BipedalWalker-v3')\n",
    "env.seed(0)\n",
    "torch.manual_seed(0)\n",
    "print(\"state space\", env.observation_space, \"action space\", env.action_space)\n",
    "num_inputs = env.observation_space.shape[0]\n",
    "num_actions = env.action_space.shape[0]\n",
    "running_state = ZFilter((num_inputs,), clip=5)"
   ]
  },
  {
   "cell_type": "code",
   "execution_count": 12,
   "metadata": {},
   "outputs": [],
   "source": [
    "class Actor(nn.Module):\n",
    "    def __init__(self, num_inputs, num_outputs, hidden_size):\n",
    "        super(Actor, self).__init__()\n",
    "        self.fc1 = nn.Linear(num_inputs, hidden_size)\n",
    "        self.fc2 = nn.Linear(hidden_size, hidden_size)\n",
    "        self.fc3 = nn.Linear(hidden_size, num_outputs)\n",
    "        \n",
    "        self.fc3.weight.data.mul_(0.1)\n",
    "        self.fc3.bias.data.mul_(0.0)\n",
    "\n",
    "    def forward(self, x):\n",
    "        x = torch.tanh(self.fc1(x))\n",
    "        x = torch.tanh(self.fc2(x))\n",
    "        mu = self.fc3(x)\n",
    "        logstd = torch.zeros_like(mu)\n",
    "        std = torch.exp(logstd)\n",
    "        return mu, std\n",
    "\n",
    "\n",
    "class Critic(nn.Module):\n",
    "    def __init__(self, num_inputs, hidden_size):\n",
    "        super(Critic, self).__init__()\n",
    "        self.fc1 = nn.Linear(num_inputs, hidden_size)\n",
    "        self.fc2 = nn.Linear(hidden_size, hidden_size)\n",
    "        self.fc3 = nn.Linear(hidden_size, 1)\n",
    "        \n",
    "        self.fc3.weight.data.mul_(0.1)\n",
    "        self.fc3.bias.data.mul_(0.0)\n",
    "\n",
    "    def forward(self, x):\n",
    "        x = torch.tanh(self.fc1(x))\n",
    "        x = torch.tanh(self.fc2(x))\n",
    "        v = self.fc3(x)\n",
    "        return v\n",
    "\n",
    "\n",
    "class VDB(nn.Module):\n",
    "    def __init__(self, num_inputs, hidden_size, z_size):\n",
    "        super(VDB, self).__init__()\n",
    "        self.fc1 = nn.Linear(num_inputs, hidden_size)\n",
    "        self.fc2 = nn.Linear(hidden_size, z_size)\n",
    "        self.fc3 = nn.Linear(hidden_size, z_size)\n",
    "        self.fc4 = nn.Linear(z_size, hidden_size)\n",
    "        self.fc5 = nn.Linear(hidden_size, 1)\n",
    "        \n",
    "        self.fc5.weight.data.mul_(0.1)\n",
    "        self.fc5.bias.data.mul_(0.0)\n",
    "\n",
    "    def encoder(self, x):\n",
    "        h = torch.tanh(self.fc1(x))\n",
    "        return self.fc2(h), self.fc3(h)\n",
    "    \n",
    "    def reparameterize(self, mu, logvar):\n",
    "        std = torch.exp(logvar/2)\n",
    "        eps = torch.randn_like(std)\n",
    "        return mu + std * eps\n",
    "\n",
    "    def discriminator(self, z):\n",
    "        h = torch.tanh(self.fc4(z))\n",
    "        return torch.sigmoid(self.fc5(h))\n",
    "    \n",
    "    def forward(self, x):\n",
    "        mu, logvar = self.encoder(x)\n",
    "        z = self.reparameterize(mu, logvar)\n",
    "        prob = self.discriminator(z)\n",
    "        return prob, mu, logvar"
   ]
  },
  {
   "cell_type": "code",
   "execution_count": 13,
   "metadata": {},
   "outputs": [],
   "source": [
    "actor = Actor(num_inputs, num_actions, hidden_size=128)\n",
    "critic = Critic(num_inputs, hidden_size=128)\n",
    "vdb = VDB(num_inputs + num_actions, hidden_size=128, z_size=4)"
   ]
  },
  {
   "cell_type": "code",
   "execution_count": null,
   "metadata": {},
   "outputs": [],
   "source": []
  }
 ],
 "metadata": {
  "kernelspec": {
   "display_name": "Python 3",
   "language": "python",
   "name": "python3"
  },
  "language_info": {
   "codemirror_mode": {
    "name": "ipython",
    "version": 3
   },
   "file_extension": ".py",
   "mimetype": "text/x-python",
   "name": "python",
   "nbconvert_exporter": "python",
   "pygments_lexer": "ipython3",
   "version": "3.6.9"
  }
 },
 "nbformat": 4,
 "nbformat_minor": 4
}
